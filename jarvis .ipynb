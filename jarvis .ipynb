{
 "cells": [
  {
   "cell_type": "code",
   "execution_count": 1,
   "id": "889b0d7c",
   "metadata": {},
   "outputs": [
    {
     "name": "stdout",
     "output_type": "stream",
     "text": [
      "Defaulting to user installation because normal site-packages is not writeable\n",
      "Requirement already satisfied: pyttsx3 in c:\\users\\rahul\\appdata\\roaming\\python\\python311\\site-packages (2.91)\n",
      "Requirement already satisfied: SpeechRecognition in c:\\users\\rahul\\appdata\\roaming\\python\\python311\\site-packages (3.10.4)\n",
      "Requirement already satisfied: comtypes in c:\\users\\rahul\\appdata\\roaming\\python\\python311\\site-packages (from pyttsx3) (1.4.6)\n",
      "Requirement already satisfied: pypiwin32 in c:\\users\\rahul\\appdata\\roaming\\python\\python311\\site-packages (from pyttsx3) (223)\n",
      "Requirement already satisfied: pywin32 in c:\\programdata\\anaconda3\\lib\\site-packages (from pyttsx3) (305.1)\n",
      "Requirement already satisfied: requests>=2.26.0 in c:\\programdata\\anaconda3\\lib\\site-packages (from SpeechRecognition) (2.29.0)\n",
      "Requirement already satisfied: typing-extensions in c:\\programdata\\anaconda3\\lib\\site-packages (from SpeechRecognition) (4.6.3)\n",
      "Requirement already satisfied: charset-normalizer<4,>=2 in c:\\programdata\\anaconda3\\lib\\site-packages (from requests>=2.26.0->SpeechRecognition) (2.0.4)\n",
      "Requirement already satisfied: idna<4,>=2.5 in c:\\programdata\\anaconda3\\lib\\site-packages (from requests>=2.26.0->SpeechRecognition) (3.4)\n",
      "Requirement already satisfied: urllib3<1.27,>=1.21.1 in c:\\programdata\\anaconda3\\lib\\site-packages (from requests>=2.26.0->SpeechRecognition) (1.26.16)\n",
      "Requirement already satisfied: certifi>=2017.4.17 in c:\\programdata\\anaconda3\\lib\\site-packages (from requests>=2.26.0->SpeechRecognition) (2024.6.2)\n",
      "Note: you may need to restart the kernel to use updated packages.\n"
     ]
    }
   ],
   "source": [
    "pip install pyttsx3 SpeechRecognition"
   ]
  },
  {
   "cell_type": "code",
   "execution_count": 2,
   "id": "352c94b0",
   "metadata": {},
   "outputs": [
    {
     "name": "stdout",
     "output_type": "stream",
     "text": [
      "Defaulting to user installation because normal site-packages is not writeable\n",
      "Requirement already satisfied: pyaudio in c:\\users\\rahul\\appdata\\roaming\\python\\python311\\site-packages (0.2.14)\n",
      "Note: you may need to restart the kernel to use updated packages.\n"
     ]
    }
   ],
   "source": [
    "pip install pyaudio\n"
   ]
  },
  {
   "cell_type": "code",
   "execution_count": null,
   "id": "35c9d746",
   "metadata": {},
   "outputs": [
    {
     "name": "stdout",
     "output_type": "stream",
     "text": [
      "Listening...\n",
      "You said: Rahul\n",
      "Listening...\n",
      "You said: play song\n",
      "Listening...\n",
      "Sorry, I can't understand. Could you please repeat?\n",
      "Listening...\n",
      "You said: how r u\n",
      "Listening...\n",
      "You said: how\n",
      "Listening...\n",
      "Sorry, I can't understand. Could you please repeat?\n",
      "Listening...\n",
      "You said: how r u\n",
      "Listening...\n",
      "You said: how r u\n",
      "Listening...\n",
      "You said: I love u\n",
      "Listening...\n",
      "You said: I love u\n",
      "Listening...\n",
      "You said: I love you\n",
      "Listening...\n",
      "Sorry, I can't understand. Could you please repeat?\n",
      "Listening...\n",
      "Sorry, I can't understand. Could you please repeat?\n",
      "Listening...\n"
     ]
    }
   ],
   "source": [
    "\n",
    "\n",
    "import speech_recognition as sr\n",
    "import pyttsx3\n",
    "import webbrowser\n",
    "import os \n",
    "\n",
    "\n",
    "# Initialize the speech engine\n",
    "engine = pyttsx3.init()\n",
    "\n",
    "def speak(text):\n",
    "    engine.say(text)\n",
    "    engine.runAndWait()\n",
    "\n",
    "def listen():\n",
    "    recognizer = sr.Recognizer()\n",
    "    with sr.Microphone() as source:\n",
    "        print(\"Listening...\")\n",
    "        audio = recognizer.listen(source)\n",
    "        try:\n",
    "            command = recognizer.recognize_google(audio)\n",
    "            print(f\"You said: {command}\")\n",
    "        except Exception as e:\n",
    "            print(\"Sorry, I can't understand. Could you please repeat?\")\n",
    "            return \"None\"\n",
    "        return command.lower()\n",
    "    \n",
    "def username():\n",
    "    webbrowser.open(r\"C:\\Users\\rahul\\OneDrive\\Desktop\\ironman-arc-master\\rahul baba\\index.html\")\n",
    "    speak('what soud i call you sir?')\n",
    "    uname = listen()\n",
    "    speak(\"welcome mister \"+uname)\n",
    "    speak (\"how can i help you sir?\")\n",
    "   \n",
    "   \n",
    "    while True:\n",
    "        command = listen()\n",
    "\n",
    "        if'stop' in command or  'ruk jao' in command or 'bye' in command or 'exit' in command:\n",
    "            speak(\"ok boss goodbye!\")\n",
    "            break\n",
    "\n",
    "        elif 'open youtube' in command or 'youtube chala do' in command:\n",
    "            speak(\" ok Malik Chala deta hun YouTube\")\n",
    "            webbrowser.open(\"https://www.youtube.com\")\n",
    "\n",
    "        elif 'open google' in command:\n",
    "            speak(\"Opening Google\")\n",
    "            webbrowser.open(\"https://www.google.com\")\n",
    "\n",
    "        elif 'open' in command:\n",
    "            website = command.replace('open ', '')\n",
    "            speak(f\"Opening {website}\")\n",
    "            webbrowser.open(f\"https://{website}.com\")\n",
    "\n",
    "        elif 'tumhara naam kya hai' in command or 'your name' in command:\n",
    "            speak(\"I am rahul baba, your personal assistant.\")\n",
    "            \n",
    "        elif 'kya kar rahe ho' in command:\n",
    "            speak(f\"Apna Kam  .\")\n",
    "            \n",
    "        elif 'rahul bhai' in command:\n",
    "            speak(f\"bolo bhai  .\")\n",
    "            \n",
    "        elif 'ek baat batao' in command:\n",
    "            speak(f\" Poochho.\")\n",
    "            \n",
    "        elif 'ek baat batao' in command:\n",
    "            speak(f\" Poochho.\")\n",
    "            \n",
    "        elif 'play song' in command or 'gana bajao' in command:\n",
    "            speak(\" ye lo\")\n",
    "            webbrowser.open(\"https://www.youtube.com/watch?v=n85OUaI2vNI&pp=ygUVaGluZGkgc29uZyBwbGF5IGxpc3Qg\")\n",
    "            \n",
    "     \n",
    "            \n",
    "        elif 'how are you ' in command:\n",
    "            speak(\"i am fine , thank you.\")\n",
    "            speak (\"how are you, sir?\")\n",
    "            \n",
    "        elif 'fine' in command or 'good' in command:\n",
    "            speak(\"it's good tp know that you are fine.\")\n",
    "            \n",
    "        elif ' i  love you ' in command:\n",
    "            speak(\"oh my god,thank you. i love you too. anything i can help you wish?\")\n",
    "        \n",
    "       \n",
    "            \n",
    "            \n",
    "            \n",
    "       \n",
    "        \n",
    "\n",
    "        else:\n",
    "            speak(\"Sorry, I can only perform basic tasks right now.\")\n",
    "           \n",
    "\n",
    "            \n",
    "if __name__ == \"__main__\":\n",
    "    username()\n"
   ]
  },
  {
   "cell_type": "code",
   "execution_count": null,
   "id": "2e87360d",
   "metadata": {},
   "outputs": [],
   "source": [
    "\n",
    "\n"
   ]
  },
  {
   "cell_type": "code",
   "execution_count": null,
   "id": "c4a42993",
   "metadata": {},
   "outputs": [],
   "source": []
  },
  {
   "cell_type": "code",
   "execution_count": null,
   "id": "28e37d0a",
   "metadata": {},
   "outputs": [],
   "source": []
  },
  {
   "cell_type": "code",
   "execution_count": null,
   "id": "0027f843",
   "metadata": {},
   "outputs": [],
   "source": []
  }
 ],
 "metadata": {
  "kernelspec": {
   "display_name": "Python 3 (ipykernel)",
   "language": "python",
   "name": "python3"
  },
  "language_info": {
   "codemirror_mode": {
    "name": "ipython",
    "version": 3
   },
   "file_extension": ".py",
   "mimetype": "text/x-python",
   "name": "python",
   "nbconvert_exporter": "python",
   "pygments_lexer": "ipython3",
   "version": "3.11.3"
  }
 },
 "nbformat": 4,
 "nbformat_minor": 5
}
