{
 "cells": [
  {
   "cell_type": "code",
   "execution_count": 1,
   "id": "1dac9c4e",
   "metadata": {},
   "outputs": [],
   "source": [
    "import time\n",
    "import random\n",
    "import random\n",
    "from datetime import timedelta,datetime\n",
    "import re\n",
    "\n",
    "\n",
    "class ATM:\n",
    "    \n",
    "    '''this is an ATM class\n",
    "    Available methods\n",
    "    1>>balance check\n",
    "    2>>withdrawl\n",
    "    3>>deposit\n",
    "    4>>pin change\n",
    "    5>>mini statement\n",
    "    6>>cardless_withdrawl\n",
    "    7>>kyc\n",
    "    8>>Emergency_Help!!'''\n",
    "    \n",
    "    atm_count=0\n",
    "    def __init__(self,bank_name):\n",
    "        self.bank_name=bank_name\n",
    "        self.pin='0000'\n",
    "        self.balance=2000\n",
    "        self.attempt=3\n",
    "        ATM.atm_count+=1\n",
    "        self.__all_issues={'Ticket_no':[],'Issues_Desc':[]}\n",
    "        \n",
    "        if self.attempt>0:\n",
    "            pin_ans = input('enter your PIN: ')\n",
    "\n",
    "\n",
    "            if pin_ans ==self.pin:\n",
    "                user_ans=input('''select below given choice: \n",
    "                1>>balance check\n",
    "                2>>withdrawl\n",
    "                3>>deposit\n",
    "                4>>pin change\n",
    "                5>>mini statement\n",
    "                6>>cardless_withdrawl\n",
    "                7>>kyc\n",
    "                8>>Emergency_Help!!''')\n",
    "                \n",
    "                \n",
    "                \n",
    "                if user_ans=='1':\n",
    "                    self.check_balance()\n",
    "                    \n",
    "                elif user_ans=='2':\n",
    "                    self.withdrawl()\n",
    "                    \n",
    "                elif user_ans=='3':\n",
    "                    self.depsoit()\n",
    "                    \n",
    "                elif user_ans=='4':\n",
    "                    self.pin_change()\n",
    "                    \n",
    "                elif user_ans=='5':\n",
    "                    self.mini_statement()\n",
    "                    \n",
    "                elif user_ans=='6':\n",
    "                    self.cardless_withdrawl()\n",
    "                    \n",
    "                elif user_ans=='7':\n",
    "                    self.kyc()\n",
    "                    \n",
    "                elif user_ans=='8':\n",
    "                    self.emergency_help()\n",
    "                        \n",
    "                    \n",
    "                \n",
    "            \n",
    "                    \n",
    "                    \n",
    "                \n",
    "\n",
    "            else:\n",
    "                print(\"Incorrect pin\")\n",
    "                self.attempt -= 1\n",
    "                print(f\"{self.attempt}left\")\n",
    "                \n",
    "        else:\n",
    "            print(\"no attempt left try tomorrow!!\")\n",
    "\n",
    "    \n",
    "    #methods /features\n",
    "    def check_balance(self):\n",
    "        print(f\"your corrent balance is rs {self.balance}\")\n",
    "        \n",
    "        \n",
    "    #---------------------------------------------------------------------------------------\n",
    "    def withdrawl(self):\n",
    "        \n",
    "        try:\n",
    "        \n",
    "    \n",
    "            amount = int(input('enter amount:'))\n",
    "\n",
    "            if amount >0:\n",
    "                if amount<=self.balance:\n",
    "                    if amount%100==0:\n",
    "                        if amount<=5000:\n",
    "                            print(f\"your amount Rs{amount}has been withdrawl successfully!!\")\n",
    "                            self.balance -= amount\n",
    "                            self.check_balance()\n",
    "                        else:\n",
    "                            print('Daily Limit Is Rs 50k')\n",
    "                    else:\n",
    "                        print('amount must be multiple of 100')\n",
    "\n",
    "                else:\n",
    "                    print(\"insufficient balance !!\")\n",
    "\n",
    "            else:\n",
    "                print(\"invalid amount!!\")\n",
    "\n",
    "        except:\n",
    "            print(\"amount must be numeric!!\")\n",
    "                \n",
    "        \n",
    "                \n",
    "   #---------------------------------------------------------------------------------------------------------         \n",
    "        \n",
    "        \n",
    "    \n",
    "    def depsoit(self):\n",
    "        try:\n",
    "            amount = int(input(\"enter amount : \"))\n",
    "            \n",
    "            if amount>0:\n",
    "                if amount<=50000:\n",
    "                    if amount%100==0:\n",
    "                        print(f\"yuor amount Rs{amount} has been  deposit successfully!!\")\n",
    "                        self.balance+=amount\n",
    "                        \n",
    "                        self.check_balance()\n",
    "                    else:\n",
    "                        print(\"amount must be multipple of 100\")\n",
    "                else:\n",
    "                    print(\"Daily Limit Is Rs 50k\")\n",
    "            else:\n",
    "                print(\"invalid amount!!\")\n",
    "                \n",
    "        except:\n",
    "            print(\"amount must be numeric!!\")\n",
    "            \n",
    "    #-------------------------------------------------------------------------------------------------------------\n",
    "    \n",
    "    def pin_change(self):\n",
    "        old_pin = input(\"enter your old PIN: \")\n",
    "        if old_pin == self.pin:\n",
    "            new_pin = input(\"create your PIN: \")\n",
    "            \n",
    "            if new_pin.isdigit():\n",
    "                if len(new_pin)==4:\n",
    "                    pin_again=input(\"enter again:  \")\n",
    "                    \n",
    "                    if new_pin==pin_again:\n",
    "                        phone = input(\"enter your registered mobile no: \")\n",
    "                        \n",
    "                        \n",
    "                        if (len(phone)==10) and phone.isdigit():\n",
    "                           \n",
    "\n",
    "                            pt = r'[9876]\\d{9}'\n",
    "                            result= re.findall(pt,phone)\n",
    "                            \n",
    "                            if len(result)>0:\n",
    "                            \n",
    "                                for i in '0123456789':\n",
    "                                    if result[0].count(i)>4:\n",
    "                                        print(\"Invalid phone number\")\n",
    "                                        break\n",
    "                                        \n",
    "                                else:\n",
    "                                    otp = random.randint(1111,9999)\n",
    "                                    print(\"sending OTP\",end='')\n",
    "                                    for i in range(3):\n",
    "                                        print('..'*5,end='')\n",
    "                                        time.sleep(1)\n",
    "                                    display(clear=True)\n",
    "                                    print(\"your otp is: \", otp)\n",
    "\n",
    "\n",
    "                                    try:\n",
    "                                        otp_ans =int(input(\"enter otp\"))\n",
    "\n",
    "                                        if otp_ans == otp:\n",
    "                                            self.pin=new_pin\n",
    "                                            print(\"PIN changed successfully!!\")\n",
    "                                        else:\n",
    "                                            print(\"incorrect opt!!\")\n",
    "\n",
    "                                    except:\n",
    "                                        print(\"Invalid input\")\n",
    "                                        \n",
    "                                    \n",
    "                            else:\n",
    "                                print(\"Invalid phone number!!\")\n",
    "                                \n",
    "                            \n",
    "                        else:\n",
    "                            print(\"invalid phone number!!\")\n",
    "                    else:\n",
    "                        print(\"PIN missmatched!!\")\n",
    "                else:\n",
    "                    print(\"PIN length must be 4 digit!!\")\n",
    "            else:\n",
    "                print(\"PIN must be  numeric!!\")\n",
    "            \n",
    "            \n",
    "            \n",
    "        else:\n",
    "            print(\"incorrect PIN!!\")\n",
    "            self.attempt-=1\n",
    "            \n",
    "   #-------------------------------------------------------------------------------------------------------------\n",
    "          \n",
    "    \n",
    "    def mini_statement(self,days=None):\n",
    "        import random\n",
    "        if days == None:\n",
    "            print('please enter number of days!!')\n",
    "            \n",
    "        elif type(days)==int:\n",
    "            if 1<=days <=30:\n",
    "\n",
    "\n",
    "\n",
    "\n",
    "                for i in range(days):\n",
    "                    abhi_ka_date=datetime.now()\n",
    "                    back_date = abhi_ka_date - timedelta(days)\n",
    "\n",
    "\n",
    "                    final_date = back_date+timedelta(i)\n",
    "                    #print(final_date.date())\n",
    "\n",
    "                    sign='-+'\n",
    "                    sign_choice =random.choice(sign)\n",
    "                    if sign_choice=='-':\n",
    "                        print(f\"date:{final_date.date()}Amount Dabited Rs {sign_choice}{random.randint(100,50000)}\")\n",
    "\n",
    "                    else:\n",
    "                        print(f\"date:{final_date.date()}Amount Credited Rs {sign_choice}{random.randint(100,50000)}\")\n",
    "            else:\n",
    "                print(\"invalid days range!!\")\n",
    "        else:\n",
    "            print(\"Invalid days values\")\n",
    "            \n",
    "            \n",
    "     #-------------------------------------------------------------------------------------------------------------\n",
    "    \n",
    "    \n",
    "    def cardless_withdrawl(self):\n",
    "        phone = input(\"enter your registered mobile no: \")\n",
    "                        \n",
    "                        \n",
    "        if (len(phone)==10) and phone.isdigit():\n",
    "                           \n",
    "\n",
    "            pt = r'[9876]\\d{9}'\n",
    "            result= re.findall(pt,phone)\n",
    "                            \n",
    "            if len(result)>0:\n",
    "                for i in '0123456789':\n",
    "                    if result[0].count(i)>3:\n",
    "                        print(\"Invalid phone number\")\n",
    "                        break\n",
    "                    else:\n",
    "                        otp = random.randint(1111,9999)\n",
    "                        time.sleep(3)\n",
    "                        print(\"your otp is: \", otp)\n",
    "                        try:\n",
    "                            otp_ans =int(input(\"enter otp\"))\n",
    "                            if otp_ans == otp:\n",
    "                                op_choice=input('''select any one below given\n",
    "                                1>>500\n",
    "                                2>>1000\n",
    "                                3>>1500\n",
    "                                4>>2000\n",
    "                                : ''')\n",
    "                                if op_choice=='1':\n",
    "                                    if self.balance>=500:\n",
    "                                        print('Amounts 500 withdrawl successfully!!')\n",
    "                                        self.balance-=500\n",
    "                                    else:\n",
    "                                        print('insufficent Amount')\n",
    "                                        \n",
    "                                elif op_choice=='2':\n",
    "                                    if self.balance>=1000:\n",
    "                                        print('Amounts 1000 withdrawl successfully!!')\n",
    "                                        self.balance-=1000\n",
    "                                    else:\n",
    "                                        print('insufficent Amount')\n",
    "                                        \n",
    "                                elif op_choice=='3':\n",
    "                                    if self.balance>=1500:\n",
    "                                        print('Amounts 1500 withdrawl successfully!!')\n",
    "                                        self.balance-=1500\n",
    "                                    else:\n",
    "                                        print('insufficent Amount') \n",
    "                                elif op_choice=='4':\n",
    "                                    if self.balance>=2000:\n",
    "                                        print('Amounts 2000 withdrawl successfully!!')\n",
    "                                        self.balance-=2000\n",
    "                                    else:\n",
    "                                        print('insufficent Amount')\n",
    "                                    \n",
    "                                    \n",
    "                                else:\n",
    "                                    print(\"incorrect opt!!\")\n",
    "                                    \n",
    "                            \n",
    "                        except:\n",
    "                            print(\"Invalid input\")\n",
    "                                        \n",
    "   #-------------------------------------------------------------------------------------------------------------                                  \n",
    "    \n",
    "    def emergency_help(self):\n",
    "        issue = input(\"inter issue here : \")\n",
    "        ticket = random.randint(111111111,999999999)\n",
    "        print(f'''topic:{issue}\n",
    "        Hello Customerwe are here to serve you.\n",
    "        we have successfully raised you issue with connected dept\n",
    "        customer care execut will contact you shortly\n",
    "        \n",
    "        your complaint number/Ticket no: {ticket}.\n",
    "        feel free to contact us ''')\n",
    "        \n",
    "        self.__all_issues['Issues_Desc'].append(issue)\n",
    "        self.__all_issues['Ticket_no'].append(ticket)\n",
    "        \n",
    "    def __all_issues_information(self):\n",
    "        import pandas as pd\n",
    "        table=pd.DataFrame(self.__all_issues)\n",
    "        return table\n",
    "        "
   ]
  },
  {
   "cell_type": "code",
   "execution_count": 2,
   "id": "9642b82d",
   "metadata": {},
   "outputs": [
    {
     "name": "stdout",
     "output_type": "stream",
     "text": [
      "enter your PIN: 0000\n",
      "select below given choice: \n",
      "                1>>balance check\n",
      "                2>>withdrawl\n",
      "                3>>deposit\n",
      "                4>>pin change\n",
      "                5>>mini statement\n",
      "                6>>cardless_withdrawl\n",
      "                7>>kyc\n",
      "                8>>Emergency_Help!!8\n",
      "inter issue here : card change\n",
      "topic:card change\n",
      "        Hello Customerwe are here to serve you.\n",
      "        we have successfully raised you issue with connected dept\n",
      "        customer care execut will contact you shortly\n",
      "        \n",
      "        your complaint number/Ticket no: 127090808.\n",
      "        feel free to contact us \n"
     ]
    }
   ],
   "source": [
    "icici_bank=ATM('Icici')\n",
    "\n",
    "\n"
   ]
  },
  {
   "cell_type": "code",
   "execution_count": 3,
   "id": "282e3b4a",
   "metadata": {},
   "outputs": [
    {
     "name": "stdout",
     "output_type": "stream",
     "text": [
      "inter issue here : change passbook\n",
      "topic:change passbook\n",
      "        Hello Customerwe are here to serve you.\n",
      "        we have successfully raised you issue with connected dept\n",
      "        customer care execut will contact you shortly\n",
      "        \n",
      "        your complaint number/Ticket no: 467616449.\n",
      "        feel free to contact us \n"
     ]
    }
   ],
   "source": [
    "icici_bank.emergency_help()\n",
    "\n"
   ]
  },
  {
   "cell_type": "code",
   "execution_count": 4,
   "id": "00145286",
   "metadata": {},
   "outputs": [
    {
     "data": {
      "text/plain": [
       "'Icici'"
      ]
     },
     "execution_count": 4,
     "metadata": {},
     "output_type": "execute_result"
    }
   ],
   "source": [
    "icici_bank.bank_name\n",
    "\n"
   ]
  },
  {
   "cell_type": "code",
   "execution_count": 5,
   "id": "0cb51761",
   "metadata": {},
   "outputs": [
    {
     "name": "stdout",
     "output_type": "stream",
     "text": [
      "enter amount : 4500\n",
      "yuor amount Rs4500 has been  deposit successfully!!\n",
      "your corrent balance is rs 6500\n"
     ]
    }
   ],
   "source": [
    "icici_bank.depsoit()"
   ]
  },
  {
   "cell_type": "code",
   "execution_count": 6,
   "id": "6ac44abc",
   "metadata": {},
   "outputs": [
    {
     "name": "stdout",
     "output_type": "stream",
     "text": [
      "your corrent balance is rs 6500\n"
     ]
    }
   ],
   "source": [
    "icici_bank.check_balance()"
   ]
  },
  {
   "cell_type": "code",
   "execution_count": 127,
   "id": "2d1cec6a",
   "metadata": {},
   "outputs": [
    {
     "name": "stdout",
     "output_type": "stream",
     "text": [
      "date:2024-08-06Amount Dabited Rs -41734\n",
      "date:2024-08-07Amount Dabited Rs -23124\n",
      "date:2024-08-08Amount Dabited Rs -3486\n",
      "date:2024-08-09Amount Dabited Rs -1222\n",
      "date:2024-08-10Amount Dabited Rs -27417\n",
      "date:2024-08-11Amount Dabited Rs -21345\n",
      "date:2024-08-12Amount Credited Rs +15196\n",
      "date:2024-08-13Amount Credited Rs +23409\n",
      "date:2024-08-14Amount Credited Rs +6817\n",
      "date:2024-08-15Amount Dabited Rs -39903\n",
      "date:2024-08-16Amount Dabited Rs -28303\n",
      "date:2024-08-17Amount Dabited Rs -20229\n",
      "date:2024-08-18Amount Credited Rs +414\n",
      "date:2024-08-19Amount Dabited Rs -440\n",
      "date:2024-08-20Amount Dabited Rs -26819\n",
      "date:2024-08-21Amount Credited Rs +22105\n",
      "date:2024-08-22Amount Dabited Rs -40369\n",
      "date:2024-08-23Amount Credited Rs +36562\n",
      "date:2024-08-24Amount Dabited Rs -6698\n",
      "date:2024-08-25Amount Dabited Rs -48569\n",
      "date:2024-08-26Amount Credited Rs +21736\n",
      "date:2024-08-27Amount Credited Rs +12481\n",
      "date:2024-08-28Amount Dabited Rs -8397\n",
      "date:2024-08-29Amount Credited Rs +19234\n",
      "date:2024-08-30Amount Dabited Rs -37717\n",
      "date:2024-08-31Amount Credited Rs +21431\n",
      "date:2024-09-01Amount Credited Rs +11115\n",
      "date:2024-09-02Amount Credited Rs +35514\n",
      "date:2024-09-03Amount Dabited Rs -26518\n"
     ]
    }
   ],
   "source": [
    "icici_bank.mini_statement(29)"
   ]
  },
  {
   "cell_type": "code",
   "execution_count": null,
   "id": "f63203f4",
   "metadata": {},
   "outputs": [],
   "source": [
    "icici_bank.pin_change()\n",
    "\n",
    "\n"
   ]
  },
  {
   "cell_type": "code",
   "execution_count": 93,
   "id": "deddf6c8",
   "metadata": {},
   "outputs": [
    {
     "name": "stdout",
     "output_type": "stream",
     "text": [
      "your corrent balance is rs 2000\n"
     ]
    }
   ],
   "source": [
    "icici_bank.check_balance()"
   ]
  },
  {
   "cell_type": "code",
   "execution_count": 99,
   "id": "9a01a56e",
   "metadata": {},
   "outputs": [
    {
     "name": "stdout",
     "output_type": "stream",
     "text": [
      "your otp is:  3799\n",
      "enter otp3799\n",
      "PIN changed successfully!!\n"
     ]
    }
   ],
   "source": [
    "icici_bank.pin_change()\n"
   ]
  },
  {
   "cell_type": "code",
   "execution_count": 101,
   "id": "369a3d31",
   "metadata": {},
   "outputs": [
    {
     "data": {
      "text/plain": [
       "'1234'"
      ]
     },
     "execution_count": 101,
     "metadata": {},
     "output_type": "execute_result"
    }
   ],
   "source": [
    "icici_bank.pin"
   ]
  },
  {
   "cell_type": "code",
   "execution_count": 7,
   "id": "2fc9893d",
   "metadata": {},
   "outputs": [
    {
     "data": {
      "text/html": [
       "<div>\n",
       "<style scoped>\n",
       "    .dataframe tbody tr th:only-of-type {\n",
       "        vertical-align: middle;\n",
       "    }\n",
       "\n",
       "    .dataframe tbody tr th {\n",
       "        vertical-align: top;\n",
       "    }\n",
       "\n",
       "    .dataframe thead th {\n",
       "        text-align: right;\n",
       "    }\n",
       "</style>\n",
       "<table border=\"1\" class=\"dataframe\">\n",
       "  <thead>\n",
       "    <tr style=\"text-align: right;\">\n",
       "      <th></th>\n",
       "      <th>Ticket_no</th>\n",
       "      <th>Issues_Desc</th>\n",
       "    </tr>\n",
       "  </thead>\n",
       "  <tbody>\n",
       "    <tr>\n",
       "      <th>0</th>\n",
       "      <td>127090808</td>\n",
       "      <td>card change</td>\n",
       "    </tr>\n",
       "    <tr>\n",
       "      <th>1</th>\n",
       "      <td>467616449</td>\n",
       "      <td>change passbook</td>\n",
       "    </tr>\n",
       "  </tbody>\n",
       "</table>\n",
       "</div>"
      ],
      "text/plain": [
       "   Ticket_no      Issues_Desc\n",
       "0  127090808      card change\n",
       "1  467616449  change passbook"
      ]
     },
     "execution_count": 7,
     "metadata": {},
     "output_type": "execute_result"
    }
   ],
   "source": [
    "icici_bank._ATM__all_issues_information()"
   ]
  },
  {
   "cell_type": "code",
   "execution_count": null,
   "id": "20d63b35",
   "metadata": {},
   "outputs": [],
   "source": []
  },
  {
   "cell_type": "code",
   "execution_count": 8,
   "id": "a2efbbcc",
   "metadata": {},
   "outputs": [
    {
     "name": "stdout",
     "output_type": "stream",
     "text": [
      "enter your PIN: 0000\n",
      "select below given choice: \n",
      "                1>>balance check\n",
      "                2>>withdrawl\n",
      "                3>>deposit\n",
      "                4>>pin change\n",
      "                5>>mini statement\n",
      "                6>>cardless_withdrawl\n",
      "                7>>kyc\n",
      "                8>>Emergency_Help!!8\n",
      "inter issue here : give me another dabit card \n",
      "topic:give me another dabit card \n",
      "        Hello Customerwe are here to serve you.\n",
      "        we have successfully raised you issue with connected dept\n",
      "        customer care execut will contact you shortly\n",
      "        \n",
      "        your complaint number/Ticket no: 559449002.\n",
      "        feel free to contact us \n"
     ]
    }
   ],
   "source": [
    "uno_bank=ATM('uno bank')"
   ]
  },
  {
   "cell_type": "code",
   "execution_count": 9,
   "id": "4d22de48",
   "metadata": {},
   "outputs": [
    {
     "name": "stdout",
     "output_type": "stream",
     "text": [
      "inter issue here : change my passbook becouse it is full by history of transsion\n",
      "topic:change my passbook becouse it is full by history of transsion\n",
      "        Hello Customerwe are here to serve you.\n",
      "        we have successfully raised you issue with connected dept\n",
      "        customer care execut will contact you shortly\n",
      "        \n",
      "        your complaint number/Ticket no: 156497817.\n",
      "        feel free to contact us \n"
     ]
    }
   ],
   "source": [
    "uno_bank.emergency_help()"
   ]
  },
  {
   "cell_type": "code",
   "execution_count": 10,
   "id": "c81b1045",
   "metadata": {},
   "outputs": [
    {
     "data": {
      "text/html": [
       "<div>\n",
       "<style scoped>\n",
       "    .dataframe tbody tr th:only-of-type {\n",
       "        vertical-align: middle;\n",
       "    }\n",
       "\n",
       "    .dataframe tbody tr th {\n",
       "        vertical-align: top;\n",
       "    }\n",
       "\n",
       "    .dataframe thead th {\n",
       "        text-align: right;\n",
       "    }\n",
       "</style>\n",
       "<table border=\"1\" class=\"dataframe\">\n",
       "  <thead>\n",
       "    <tr style=\"text-align: right;\">\n",
       "      <th></th>\n",
       "      <th>Ticket_no</th>\n",
       "      <th>Issues_Desc</th>\n",
       "    </tr>\n",
       "  </thead>\n",
       "  <tbody>\n",
       "    <tr>\n",
       "      <th>0</th>\n",
       "      <td>559449002</td>\n",
       "      <td>give me another dabit card</td>\n",
       "    </tr>\n",
       "    <tr>\n",
       "      <th>1</th>\n",
       "      <td>156497817</td>\n",
       "      <td>change my passbook becouse it is full by histo...</td>\n",
       "    </tr>\n",
       "  </tbody>\n",
       "</table>\n",
       "</div>"
      ],
      "text/plain": [
       "   Ticket_no                                        Issues_Desc\n",
       "0  559449002                        give me another dabit card \n",
       "1  156497817  change my passbook becouse it is full by histo..."
      ]
     },
     "execution_count": 10,
     "metadata": {},
     "output_type": "execute_result"
    }
   ],
   "source": [
    "uno_bank._ATM__all_issues_information()"
   ]
  },
  {
   "cell_type": "code",
   "execution_count": null,
   "id": "34b64598",
   "metadata": {},
   "outputs": [],
   "source": []
  },
  {
   "cell_type": "code",
   "execution_count": 117,
   "id": "cf6abc82",
   "metadata": {},
   "outputs": [
    {
     "name": "stdout",
     "output_type": "stream",
     "text": [
      "enter your PIN: 0000\n",
      "select below given choice: \n",
      "                1>>balance check\n",
      "                2>>withdrawl\n",
      "                3>>deposit\n",
      "                4>>pin change\n",
      "                5>>mini statement\n",
      "                6>>cardless_withdrawl\n",
      "                7>>kyc\n",
      "                8>>Emergency_Help!!8\n",
      "inter issue here : my sim was swapd i want asep\n",
      "topic:my sim was swapd i want asep\n",
      "        Hello Customerwe are here to serve you.\n",
      "        we have successfully raised you issue with connected dept\n",
      "        customer care execut will contact you shortly\n",
      "        \n",
      "        your complaint number/Ticket no: 144190025.\n",
      "        feel free to contact us \n"
     ]
    }
   ],
   "source": [
    "axix=ATM('axix bank')\n"
   ]
  },
  {
   "cell_type": "code",
   "execution_count": 120,
   "id": "b02b5f42",
   "metadata": {},
   "outputs": [
    {
     "data": {
      "text/html": [
       "<div>\n",
       "<style scoped>\n",
       "    .dataframe tbody tr th:only-of-type {\n",
       "        vertical-align: middle;\n",
       "    }\n",
       "\n",
       "    .dataframe tbody tr th {\n",
       "        vertical-align: top;\n",
       "    }\n",
       "\n",
       "    .dataframe thead th {\n",
       "        text-align: right;\n",
       "    }\n",
       "</style>\n",
       "<table border=\"1\" class=\"dataframe\">\n",
       "  <thead>\n",
       "    <tr style=\"text-align: right;\">\n",
       "      <th></th>\n",
       "      <th>Ticket_no</th>\n",
       "      <th>Issues_Desc</th>\n",
       "    </tr>\n",
       "  </thead>\n",
       "  <tbody>\n",
       "    <tr>\n",
       "      <th>0</th>\n",
       "      <td>144190025</td>\n",
       "      <td>my sim was swapd i want asep</td>\n",
       "    </tr>\n",
       "    <tr>\n",
       "      <th>1</th>\n",
       "      <td>905285739</td>\n",
       "      <td>atm not working</td>\n",
       "    </tr>\n",
       "  </tbody>\n",
       "</table>\n",
       "</div>"
      ],
      "text/plain": [
       "   Ticket_no                   Issues_Desc\n",
       "0  144190025  my sim was swapd i want asep\n",
       "1  905285739               atm not working"
      ]
     },
     "execution_count": 120,
     "metadata": {},
     "output_type": "execute_result"
    }
   ],
   "source": [
    "axix._ATM__all_issues_information()"
   ]
  },
  {
   "cell_type": "code",
   "execution_count": 119,
   "id": "8f97d01a",
   "metadata": {},
   "outputs": [
    {
     "name": "stdout",
     "output_type": "stream",
     "text": [
      "inter issue here : atm not working\n",
      "topic:atm not working\n",
      "        Hello Customerwe are here to serve you.\n",
      "        we have successfully raised you issue with connected dept\n",
      "        customer care execut will contact you shortly\n",
      "        \n",
      "        your complaint number/Ticket no: 905285739.\n",
      "        feel free to contact us \n"
     ]
    }
   ],
   "source": [
    "axix.emergency_help()"
   ]
  },
  {
   "cell_type": "code",
   "execution_count": 104,
   "id": "1a3d4290",
   "metadata": {},
   "outputs": [],
   "source": []
  },
  {
   "cell_type": "code",
   "execution_count": 106,
   "id": "2f6647b3",
   "metadata": {},
   "outputs": [
    {
     "data": {
      "text/html": [
       "<div>\n",
       "<style scoped>\n",
       "    .dataframe tbody tr th:only-of-type {\n",
       "        vertical-align: middle;\n",
       "    }\n",
       "\n",
       "    .dataframe tbody tr th {\n",
       "        vertical-align: top;\n",
       "    }\n",
       "\n",
       "    .dataframe thead th {\n",
       "        text-align: right;\n",
       "    }\n",
       "</style>\n",
       "<table border=\"1\" class=\"dataframe\">\n",
       "  <thead>\n",
       "    <tr style=\"text-align: right;\">\n",
       "      <th></th>\n",
       "      <th>0</th>\n",
       "    </tr>\n",
       "  </thead>\n",
       "  <tbody>\n",
       "    <tr>\n",
       "      <th>123456</th>\n",
       "      <td>card block</td>\n",
       "    </tr>\n",
       "    <tr>\n",
       "      <th>23456</th>\n",
       "      <td>atm not working</td>\n",
       "    </tr>\n",
       "  </tbody>\n",
       "</table>\n",
       "</div>"
      ],
      "text/plain": [
       "                      0\n",
       "123456       card block\n",
       "23456   atm not working"
      ]
     },
     "execution_count": 106,
     "metadata": {},
     "output_type": "execute_result"
    }
   ],
   "source": [
    "table = {123456:'card block',23456:'atm not working'}\n",
    "import pandas as pd \n",
    "pd.DataFrame(table,index=[0]).T"
   ]
  },
  {
   "cell_type": "code",
   "execution_count": null,
   "id": "a2fb8b28",
   "metadata": {},
   "outputs": [],
   "source": []
  },
  {
   "cell_type": "code",
   "execution_count": null,
   "id": "5454128c",
   "metadata": {},
   "outputs": [],
   "source": []
  },
  {
   "cell_type": "code",
   "execution_count": null,
   "id": "1b24a3a8",
   "metadata": {},
   "outputs": [],
   "source": []
  },
  {
   "cell_type": "code",
   "execution_count": 40,
   "id": "ba2676d6",
   "metadata": {},
   "outputs": [],
   "source": [
    "# import random\n",
    "# from datetime import timedelta,datetime\n",
    "# days=30\n",
    "\n",
    "\n",
    "# for i in range(days):\n",
    "#     abhi_ka_date=datetime.now()\n",
    "#     back_date = abhi_ka_date - timedelta(days)\n",
    "    \n",
    "    \n",
    "#     final_date = back_date+timedelta(i)\n",
    "#     #print(final_date.date())\n",
    "    \n",
    "#     sign='-+'\n",
    "#     sign_choice =random.choice(sign)\n",
    "#     if sign_choice=='-':\n",
    "#         print(f\"date:{final_date.date()}Amount Dabited Rs {sign_choice}{random.randint(100,50000)}\")\n",
    "        \n",
    "#     else:\n",
    "#         print(f\"date:{final_date.date()}Amount Credited Rs {sign_choice}{random.randint(100,50000)}\")"
   ]
  },
  {
   "cell_type": "code",
   "execution_count": 10,
   "id": "4f69be29",
   "metadata": {},
   "outputs": [],
   "source": [
    "from datetime import datetime"
   ]
  },
  {
   "cell_type": "code",
   "execution_count": 11,
   "id": "27ba1099",
   "metadata": {},
   "outputs": [],
   "source": [
    "abhi_ka_date=datetime.now().date()"
   ]
  },
  {
   "cell_type": "code",
   "execution_count": 12,
   "id": "6e7063da",
   "metadata": {},
   "outputs": [
    {
     "name": "stdout",
     "output_type": "stream",
     "text": [
      "2024-09-04\n"
     ]
    }
   ],
   "source": [
    "print(abhi_ka_date)"
   ]
  },
  {
   "cell_type": "code",
   "execution_count": 14,
   "id": "cc60bdde",
   "metadata": {},
   "outputs": [
    {
     "name": "stdout",
     "output_type": "stream",
     "text": [
      "6 days, 0:00:00\n"
     ]
    }
   ],
   "source": [
    "print(datetime(2024,9,10).date()-abhi_ka_time)"
   ]
  },
  {
   "cell_type": "code",
   "execution_count": 15,
   "id": "70c585e6",
   "metadata": {},
   "outputs": [],
   "source": [
    "from datetime import timedelta,datetime\n"
   ]
  },
  {
   "cell_type": "code",
   "execution_count": 23,
   "id": "1708c7e2",
   "metadata": {},
   "outputs": [],
   "source": [
    " abhi_ka_date= datetime.now()"
   ]
  },
  {
   "cell_type": "code",
   "execution_count": 24,
   "id": "719dac2c",
   "metadata": {},
   "outputs": [
    {
     "data": {
      "text/plain": [
       "datetime.timedelta(days=30)"
      ]
     },
     "execution_count": 24,
     "metadata": {},
     "output_type": "execute_result"
    }
   ],
   "source": [
    "timedelta(30)"
   ]
  },
  {
   "cell_type": "code",
   "execution_count": 28,
   "id": "96366b46",
   "metadata": {},
   "outputs": [
    {
     "data": {
      "text/plain": [
       "datetime.date(2024, 8, 5)"
      ]
     },
     "execution_count": 28,
     "metadata": {},
     "output_type": "execute_result"
    }
   ],
   "source": [
    "(abhi_ka_date-timedelta(30)).date()"
   ]
  },
  {
   "cell_type": "code",
   "execution_count": null,
   "id": "0717d6e4",
   "metadata": {},
   "outputs": [],
   "source": []
  }
 ],
 "metadata": {
  "kernelspec": {
   "display_name": "Python 3 (ipykernel)",
   "language": "python",
   "name": "python3"
  },
  "language_info": {
   "codemirror_mode": {
    "name": "ipython",
    "version": 3
   },
   "file_extension": ".py",
   "mimetype": "text/x-python",
   "name": "python",
   "nbconvert_exporter": "python",
   "pygments_lexer": "ipython3",
   "version": "3.11.3"
  }
 },
 "nbformat": 4,
 "nbformat_minor": 5
}
